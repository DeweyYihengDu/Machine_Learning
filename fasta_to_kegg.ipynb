{
 "cells": [
  {
   "cell_type": "code",
   "execution_count": 1,
   "metadata": {},
   "outputs": [
    {
     "ename": "FileNotFoundError",
     "evalue": "[Errno 2] No such file or directory: 'input.fasta.daa'",
     "output_type": "error",
     "traceback": [
      "\u001b[1;31m---------------------------------------------------------------------------\u001b[0m",
      "\u001b[1;31mFileNotFoundError\u001b[0m                         Traceback (most recent call last)",
      "\u001b[1;32m~\\AppData\\Local\\Temp\\ipykernel_15024\\1036571145.py\u001b[0m in \u001b[0;36m<module>\u001b[1;34m\u001b[0m\n\u001b[0;32m     54\u001b[0m     \u001b[0mfasta_file\u001b[0m \u001b[1;33m=\u001b[0m \u001b[1;34m\"input.fasta\"\u001b[0m\u001b[1;33m\u001b[0m\u001b[1;33m\u001b[0m\u001b[0m\n\u001b[0;32m     55\u001b[0m     \u001b[0mdiamond_db\u001b[0m \u001b[1;33m=\u001b[0m \u001b[1;34m\"kegg.dmnd\"\u001b[0m\u001b[1;33m\u001b[0m\u001b[1;33m\u001b[0m\u001b[0m\n\u001b[1;32m---> 56\u001b[1;33m     \u001b[0mpathway_infos\u001b[0m \u001b[1;33m=\u001b[0m \u001b[0mmain\u001b[0m\u001b[1;33m(\u001b[0m\u001b[0mfasta_file\u001b[0m\u001b[1;33m,\u001b[0m \u001b[0mdiamond_db\u001b[0m\u001b[1;33m)\u001b[0m\u001b[1;33m\u001b[0m\u001b[1;33m\u001b[0m\u001b[0m\n\u001b[0m\u001b[0;32m     57\u001b[0m     \u001b[1;32mfor\u001b[0m \u001b[0mpathway_id\u001b[0m\u001b[1;33m,\u001b[0m \u001b[0mpathway_info\u001b[0m \u001b[1;32min\u001b[0m \u001b[0mpathway_infos\u001b[0m\u001b[1;33m.\u001b[0m\u001b[0mitems\u001b[0m\u001b[1;33m(\u001b[0m\u001b[1;33m)\u001b[0m\u001b[1;33m:\u001b[0m\u001b[1;33m\u001b[0m\u001b[1;33m\u001b[0m\u001b[0m\n\u001b[0;32m     58\u001b[0m         \u001b[0mprint\u001b[0m\u001b[1;33m(\u001b[0m\u001b[1;34m\"Pathway ID: %s\"\u001b[0m \u001b[1;33m%\u001b[0m \u001b[0mpathway_id\u001b[0m\u001b[1;33m)\u001b[0m\u001b[1;33m\u001b[0m\u001b[1;33m\u001b[0m\u001b[0m\n",
      "\u001b[1;32m~\\AppData\\Local\\Temp\\ipykernel_15024\\1036571145.py\u001b[0m in \u001b[0;36mmain\u001b[1;34m(fasta_file, diamond_db)\u001b[0m\n\u001b[0;32m     38\u001b[0m     \u001b[0mdiamond_out\u001b[0m \u001b[1;33m=\u001b[0m \u001b[0mrun_diamond\u001b[0m\u001b[1;33m(\u001b[0m\u001b[0mfasta_file\u001b[0m\u001b[1;33m,\u001b[0m \u001b[0mdiamond_db\u001b[0m\u001b[1;33m)\u001b[0m\u001b[1;33m\u001b[0m\u001b[1;33m\u001b[0m\u001b[0m\n\u001b[0;32m     39\u001b[0m     \u001b[0mpathway_ids\u001b[0m \u001b[1;33m=\u001b[0m \u001b[0mset\u001b[0m\u001b[1;33m(\u001b[0m\u001b[1;33m)\u001b[0m\u001b[1;33m\u001b[0m\u001b[1;33m\u001b[0m\u001b[0m\n\u001b[1;32m---> 40\u001b[1;33m     \u001b[1;32mwith\u001b[0m \u001b[0mopen\u001b[0m\u001b[1;33m(\u001b[0m\u001b[0mdiamond_out\u001b[0m\u001b[1;33m,\u001b[0m \u001b[1;34m\"r\"\u001b[0m\u001b[1;33m)\u001b[0m \u001b[1;32mas\u001b[0m \u001b[0mf\u001b[0m\u001b[1;33m:\u001b[0m\u001b[1;33m\u001b[0m\u001b[1;33m\u001b[0m\u001b[0m\n\u001b[0m\u001b[0;32m     41\u001b[0m         \u001b[1;32mfor\u001b[0m \u001b[0mline\u001b[0m \u001b[1;32min\u001b[0m \u001b[0mf\u001b[0m\u001b[1;33m:\u001b[0m\u001b[1;33m\u001b[0m\u001b[1;33m\u001b[0m\u001b[0m\n\u001b[0;32m     42\u001b[0m             \u001b[0mitems\u001b[0m \u001b[1;33m=\u001b[0m \u001b[0mline\u001b[0m\u001b[1;33m.\u001b[0m\u001b[0mstrip\u001b[0m\u001b[1;33m(\u001b[0m\u001b[1;33m)\u001b[0m\u001b[1;33m.\u001b[0m\u001b[0msplit\u001b[0m\u001b[1;33m(\u001b[0m\u001b[1;34m\"\\t\"\u001b[0m\u001b[1;33m)\u001b[0m\u001b[1;33m\u001b[0m\u001b[1;33m\u001b[0m\u001b[0m\n",
      "\u001b[1;31mFileNotFoundError\u001b[0m: [Errno 2] No such file or directory: 'input.fasta.daa'"
     ]
    }
   ],
   "source": [
    "import os\n",
    "import subprocess\n",
    "import requests\n",
    "\n",
    "# 比对 fasta 文件与数据库\n",
    "def run_diamond(fasta_file, diamond_db):\n",
    "    diamond_out = fasta_file + \".daa\"\n",
    "    cmd = \"diamond blastp --query %s --db %s --out %s --outfmt 6 qseqid sseqid pident length mismatch gapopen qstart qend sstart send evalue bitscore\" % (fasta_file, diamond_db, diamond_out)\n",
    "    subprocess.call(cmd, shell=True)\n",
    "    return diamond_out\n",
    "\n",
    "# 将 KEGG Gene ID 映射到 KEGG Pathway ID\n",
    "def get_pathway_by_gene(gene_id):\n",
    "    url = \"http://rest.kegg.jp/link/pathway/%s\" % gene_id\n",
    "    pathway_id = None\n",
    "    try:\n",
    "        response = requests.get(url)\n",
    "        if response.status_code == 200:\n",
    "            pathway_id = response.text.strip().split(\"\\t\")[1].split(\":\")[1]\n",
    "    except:\n",
    "        pass\n",
    "    return pathway_id\n",
    "\n",
    "# 获取每个代谢通路的详细信息\n",
    "def get_pathway_info(pathway_id):\n",
    "    url = \"http://rest.kegg.jp/get/%s\" % pathway_id\n",
    "    pathway_info = None\n",
    "    try:\n",
    "        response = requests.get(url)\n",
    "        if response.status_code == 200:\n",
    "            pathway_info = response.text\n",
    "    except:\n",
    "        pass\n",
    "    return pathway_info\n",
    "\n",
    "# 主程序\n",
    "def main(fasta_file, diamond_db):\n",
    "    diamond_out = run_diamond(fasta_file, diamond_db)\n",
    "    pathway_ids = set()\n",
    "    with open(diamond_out, \"r\") as f:\n",
    "        for line in f:\n",
    "            items = line.strip().split(\"\\t\")\n",
    "            gene_id = items[0]\n",
    "            pathway_id = get_pathway_by_gene(gene_id)\n",
    "            if pathway_id:\n",
    "                pathway_ids.add(pathway_id)\n",
    "    pathway_infos = {}\n",
    "    for pathway_id in pathway_ids:\n",
    "        pathway_info = get_pathway_info(pathway_id)\n",
    "        pathway_infos[pathway_id] = pathway_info\n",
    "    return pathway_infos\n",
    "\n",
    "if __name__ == \"__main__\":\n",
    "    fasta_file = \"input.fasta\"\n",
    "    diamond_db = \"kegg.dmnd\"\n",
    "    pathway_infos = main(fasta_file, diamond_db)\n",
    "    for pathway_id, pathway_info in pathway_infos.items():\n",
    "        print(\"Pathway ID: %s\" % pathway_id)\n",
    "        print(pathway_info)\n"
   ]
  },
  {
   "cell_type": "markdown",
   "metadata": {},
   "source": []
  }
 ],
 "metadata": {
  "kernelspec": {
   "display_name": "base",
   "language": "python",
   "name": "python3"
  },
  "language_info": {
   "codemirror_mode": {
    "name": "ipython",
    "version": 3
   },
   "file_extension": ".py",
   "mimetype": "text/x-python",
   "name": "python",
   "nbconvert_exporter": "python",
   "pygments_lexer": "ipython3",
   "version": "3.9.13"
  },
  "orig_nbformat": 4,
  "vscode": {
   "interpreter": {
    "hash": "f6be8fc375e7f2a12d966ca69c4c87dfa0a5e21291543001a29f6d3fc266e190"
   }
  }
 },
 "nbformat": 4,
 "nbformat_minor": 2
}
