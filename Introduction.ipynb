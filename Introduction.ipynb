{
 "cells": [
  {
   "attachments": {},
   "cell_type": "markdown",
   "metadata": {},
   "source": [
    "# Mechine Learning in Microbiome\n",
    "## 1. Pre-software\n",
    "+ Python\n",
    "+ Pytorch\n",
    "+ SciPy\n",
    "+ Scikit-Learn\n",
    "## 2. Basic structure of neural networks\n",
    "### Introduction and Layers of neural networks\n",
    "Artificial Neural Networks (ANNs) 是互相连接节点组成的计算模型。 \n",
    "\n",
    "基于以下的假设：\n",
    "1. 信息在许多神经元中简单处理，但是保存在整个网络中；\n",
    "2. 信号可以在不同层的神经元中通过有关联权重的链接传递；\n",
    "3. 加权输入信号：每个神经元的输入通过乘以信号中的相关权重计算加权输入信号；\n",
    "4. 每个神经元对它们加权信号的总和应用一个激活函数而确定输出信号。\n",
    "\n",
    "神经网络可以识别隐藏的模式，建立变量之间的相关性，对原始数据进行聚类和分析。神经网络可以从数据中学习，并提供输入和输出之间的关系，概括并从训练数据中进行推断，揭示出隐藏关系、模式，并进行预测。\n",
    "\n",
    "神经网络由大量的称为神经元的节点简单处理元素并且和每个节点独立但相互连接的层组成。神经网络只是一些相互连接的节点。\n",
    "\n",
    "神经网络内的一个内部状态称为激活或活动水平，这个活动水平由激活函数（activation function）决定。一个input数据在神经元内通过activation function产生一个输出，然后产生的输出被转移到后续层的其他几个神经元的输入。神经元的组成包括输入数据，weights， biases，和一个activation function。每个input与一个weight相关联。\n",
    "\n",
    "### Train a Neutal Network and Delta Learning Rule\n",
    "\n",
    "In the training set, we have known the correct output. So, in the training phase, the network calculates the error for the output and these errors are used to update the weights of the network in order to update the network. \n",
    "\n",
    "Delta Learning Rule：\n",
    "\n",
    "The delta rule works by adjusting the weights of the network so that the difference between the network's output and the desired output is minimized. This is done by computing the error between the network's output and the desired output, and then using that error to adjust the weights. The adjustment to the weights is proportional to the error and the input, and is given by the following formula:\n",
    "\n",
    "Δw = α(d - y)x\n",
    "\n",
    "where:\n",
    "\n",
    "+ Δw is the change in the weight\n",
    "+ α is the learning rate, which controls the step size of the weight update\n",
    "+ d is the desired output\n",
    "+ y is the network's output\n",
    "+ x is the input\n",
    "\n",
    "Delta Rule is used to **train single layer**. \n",
    "\n",
    "### Generalized delta rule\n",
    "\n",
    "The Generalized delta rule can be used to train multi-layer networks, including feedforward networks with hidden layers. "
   ]
  },
  {
   "cell_type": "markdown",
   "metadata": {},
   "source": []
  },
  {
   "cell_type": "markdown",
   "metadata": {},
   "source": []
  },
  {
   "cell_type": "markdown",
   "metadata": {},
   "source": []
  },
  {
   "cell_type": "markdown",
   "metadata": {},
   "source": []
  },
  {
   "attachments": {},
   "cell_type": "markdown",
   "metadata": {},
   "source": []
  }
 ],
 "metadata": {
  "kernelspec": {
   "display_name": "base",
   "language": "python",
   "name": "python3"
  },
  "language_info": {
   "codemirror_mode": {
    "name": "ipython",
    "version": 3
   },
   "file_extension": ".py",
   "mimetype": "text/x-python",
   "name": "python",
   "nbconvert_exporter": "python",
   "pygments_lexer": "ipython3",
   "version": "3.9.13"
  },
  "orig_nbformat": 4,
  "vscode": {
   "interpreter": {
    "hash": "f6be8fc375e7f2a12d966ca69c4c87dfa0a5e21291543001a29f6d3fc266e190"
   }
  }
 },
 "nbformat": 4,
 "nbformat_minor": 2
}
