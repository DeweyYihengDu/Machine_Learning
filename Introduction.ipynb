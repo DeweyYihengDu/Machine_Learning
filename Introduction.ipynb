{
 "cells": [
  {
   "attachments": {},
   "cell_type": "markdown",
   "metadata": {
    "notebookRunGroups": {
     "groupValue": ""
    }
   },
   "source": [
    "# Mechine Learning in Microbiome\n",
    "## 1. Pre-software\n",
    "+ Python\n",
    "+ Pytorch\n",
    "+ SciPy\n",
    "+ Scikit-Learn\n",
    "## 2. Basic structure of neural networks\n",
    "### Introduction and Layers of neural networks\n",
    "\n",
    "Artificial Neural Networks (ANNs) 是互相连接节点组成的计算模型。 \n",
    "\n",
    "基于以下的假设：\n",
    "1. 信息在许多神经元中简单处理，但是保存在整个网络中；\n",
    "2. 信号可以在不同层的神经元中通过有关联权重的链接传递；\n",
    "3. 加权输入信号：每个神经元的输入通过乘以信号中的相关权重计算加权输入信号；\n",
    "4. 每个神经元对它们加权信号的总和应用一个激活函数而确定输出信号。\n",
    "\n",
    "神经网络可以识别隐藏的模式，建立变量之间的相关性，对原始数据进行聚类和分析。神经网络可以从数据中学习，并提供输入和输出之间的关系，概括并从训练数据中进行推断，揭示出隐藏关系、模式，并进行预测。\n",
    "\n",
    "神经网络由大量的称为神经元的节点简单处理元素并且和每个节点独立但相互连接的层组成。神经网络只是一些相互连接的节点。\n",
    "\n",
    "神经网络内的一个内部状态称为激活或活动水平，这个活动水平由激活函数（activation function）决定。一个input数据在神经元内通过activation function产生一个输出，然后产生的输出被转移到后续层的其他几个神经元的输入。神经元的组成包括输入数据，weights， biases，和一个activation function。每个input与一个weight相关联。\n",
    "\n",
    "### Train a Neutal Network and Delta Learning Rule\n",
    "\n",
    "In the training set, we have known the correct output. So, in the training phase, the network calculates the error for the output and these errors are used to update the weights of the network in order to update the network. \n",
    "\n",
    "Delta Learning Rule：\n",
    "\n",
    "The delta rule works by adjusting the weights of the network so that the difference between the network's output and the desired output is minimized. This is done by computing the error between the network's output and the desired output, and then using that error to adjust the weights. The adjustment to the weights is proportional to the error and the input, and is given by the following formula:\n",
    "\n",
    "Δw = α(d - y)x\n",
    "\n",
    "where:\n",
    "\n",
    "+ Δw is the change in the weight\n",
    "+ α is the learning rate, which controls the step size of the weight update\n",
    "+ d is the desired output\n",
    "+ y is the network's output\n",
    "+ x is the input\n",
    "\n",
    "Delta Rule is used to **train single layer**. \n",
    "\n",
    "### Generalized delta rule\n",
    "\n",
    "The Generalized delta rule can be used to train multi-layer networks, including feedforward networks with hidden layers. The formula is same to the Delta Learning Rule.\n",
    "\n",
    "### Gradient descent\n",
    "\n",
    "用来更新权重的值($w_{ij}$)，进行优化模型。\n",
    "\n",
    "#### Stochastic gradient descent\n",
    "\n",
    "1. 从训练数据集获得训练数据；\n",
    "2. 将数据反馈到神经网络；\n",
    "3. 计算输出的$w_{ij}$(即梯度);\n",
    "4. 使用在步骤3中更新的 $w_{ij}$;\n",
    "5. 对训练集重复步骤1-4.\n",
    "\n",
    "#### Batch gradient descent\n",
    "\n"
   ]
  },
  {
   "cell_type": "code",
   "execution_count": 29,
   "metadata": {},
   "outputs": [],
   "source": [
    "import pandas as pd\n",
    "from bioservices import KEGG"
   ]
  },
  {
   "cell_type": "code",
   "execution_count": 30,
   "metadata": {},
   "outputs": [
    {
     "ename": "TypeError",
     "evalue": "'NoneType' object is not callable",
     "output_type": "error",
     "traceback": [
      "\u001b[1;31m---------------------------------------------------------------------------\u001b[0m",
      "\u001b[1;31mTypeError\u001b[0m                                 Traceback (most recent call last)",
      "\u001b[1;32m~\\AppData\\Local\\Temp\\ipykernel_1784\\4234052811.py\u001b[0m in \u001b[0;36m<module>\u001b[1;34m\u001b[0m\n\u001b[0;32m      6\u001b[0m \u001b[0mkegg\u001b[0m \u001b[1;33m=\u001b[0m \u001b[0mKEGG\u001b[0m\u001b[1;33m(\u001b[0m\u001b[1;33m)\u001b[0m\u001b[1;33m\u001b[0m\u001b[1;33m\u001b[0m\u001b[0m\n\u001b[0;32m      7\u001b[0m \u001b[0mentry_id\u001b[0m \u001b[1;33m=\u001b[0m \u001b[1;34m\"hsa:10050\"\u001b[0m\u001b[1;33m\u001b[0m\u001b[1;33m\u001b[0m\u001b[0m\n\u001b[1;32m----> 8\u001b[1;33m \u001b[0mentry_data\u001b[0m \u001b[1;33m=\u001b[0m \u001b[0mkegg_obj\u001b[0m\u001b[1;33m.\u001b[0m\u001b[0mget_entry\u001b[0m\u001b[1;33m(\u001b[0m\u001b[0mentry_id\u001b[0m\u001b[1;33m)\u001b[0m\u001b[1;33m\u001b[0m\u001b[1;33m\u001b[0m\u001b[0m\n\u001b[0m\u001b[0;32m      9\u001b[0m \u001b[1;33m\u001b[0m\u001b[0m\n\u001b[0;32m     10\u001b[0m \u001b[1;31m# 打印条目数据\u001b[0m\u001b[1;33m\u001b[0m\u001b[1;33m\u001b[0m\u001b[0m\n",
      "\u001b[1;31mTypeError\u001b[0m: 'NoneType' object is not callable"
     ]
    }
   ],
   "source": [
    "# Step 1: Import the required libraries\n",
    "import pandas as pd\n",
    "from bioservices import KEGG\n",
    "\n",
    "# Step 2: Initialize the KEGG API\n",
    "kegg = KEGG()\n",
    "entry_id = \"hsa:10050\"\n",
    "entry_data = kegg_obj.get_entry(entry_id)\n",
    "\n",
    "# 打印条目数据\n",
    "print(entry_data)"
   ]
  },
  {
   "cell_type": "code",
   "execution_count": 17,
   "metadata": {},
   "outputs": [],
   "source": [
    "# Step 3: Load the bacteria names from a file\n",
    "bacteria_names = pd.read_csv(\"bacteria_names.csv\")\n",
    "\n",
    "# Step 4: Map the bacteria names to KEGG IDs\n",
    "# kegg_obj = kegg\n",
    "# bacteria_ids = [kegg_obj.get_entry(bac, \"name\") for bac in bacteria_names['bacteria']]\n",
    "# bacteria_ids = [bid.split(\":\")[1] for bid in bacteria_ids if bid != '']\n",
    "\n",
    "kegg_obj = kegg\n"
   ]
  },
  {
   "cell_type": "code",
   "execution_count": 18,
   "metadata": {},
   "outputs": [
    {
     "data": {
      "text/html": [
       "<div>\n",
       "<style scoped>\n",
       "    .dataframe tbody tr th:only-of-type {\n",
       "        vertical-align: middle;\n",
       "    }\n",
       "\n",
       "    .dataframe tbody tr th {\n",
       "        vertical-align: top;\n",
       "    }\n",
       "\n",
       "    .dataframe thead th {\n",
       "        text-align: right;\n",
       "    }\n",
       "</style>\n",
       "<table border=\"1\" class=\"dataframe\">\n",
       "  <thead>\n",
       "    <tr style=\"text-align: right;\">\n",
       "      <th></th>\n",
       "      <th>bacteria</th>\n",
       "    </tr>\n",
       "  </thead>\n",
       "  <tbody>\n",
       "    <tr>\n",
       "      <th>0</th>\n",
       "      <td>Rhodococcus sp. C-2</td>\n",
       "    </tr>\n",
       "    <tr>\n",
       "      <th>1</th>\n",
       "      <td>Rhodococcus sp. IEGM 1401</td>\n",
       "    </tr>\n",
       "    <tr>\n",
       "      <th>2</th>\n",
       "      <td>Rhodococcus sp. IEGM 1276</td>\n",
       "    </tr>\n",
       "    <tr>\n",
       "      <th>3</th>\n",
       "      <td>Rhodococcus sp. JS3074</td>\n",
       "    </tr>\n",
       "    <tr>\n",
       "      <th>4</th>\n",
       "      <td>Rhodococcus sp. H36-A4</td>\n",
       "    </tr>\n",
       "    <tr>\n",
       "      <th>5</th>\n",
       "      <td>Rhodococcus sp. A5(2022)</td>\n",
       "    </tr>\n",
       "    <tr>\n",
       "      <th>6</th>\n",
       "      <td>Rhodococcus sp. JS3073</td>\n",
       "    </tr>\n",
       "    <tr>\n",
       "      <th>7</th>\n",
       "      <td>Rhodococcus sp. VUW_JGO2c-H1</td>\n",
       "    </tr>\n",
       "    <tr>\n",
       "      <th>8</th>\n",
       "      <td>Rhodococcus sp. VUW_Li1c-G12</td>\n",
       "    </tr>\n",
       "    <tr>\n",
       "      <th>9</th>\n",
       "      <td>Rhodococcus sp. 75</td>\n",
       "    </tr>\n",
       "    <tr>\n",
       "      <th>10</th>\n",
       "      <td>Rhodococcus CIP-5</td>\n",
       "    </tr>\n",
       "    <tr>\n",
       "      <th>11</th>\n",
       "      <td>Rhodococcus sp. PAE-6</td>\n",
       "    </tr>\n",
       "    <tr>\n",
       "      <th>12</th>\n",
       "      <td>Rhodococcus sp. FXJ9.536</td>\n",
       "    </tr>\n",
       "    <tr>\n",
       "      <th>13</th>\n",
       "      <td>Rhodococcus sp. Z13</td>\n",
       "    </tr>\n",
       "    <tr>\n",
       "      <th>14</th>\n",
       "      <td>Rhodococcus sp. GA1</td>\n",
       "    </tr>\n",
       "    <tr>\n",
       "      <th>15</th>\n",
       "      <td>Rhodococcus sp. LBL1</td>\n",
       "    </tr>\n",
       "    <tr>\n",
       "      <th>16</th>\n",
       "      <td>Rhodococcus sp. LBL2</td>\n",
       "    </tr>\n",
       "    <tr>\n",
       "      <th>17</th>\n",
       "      <td>Rhodococcus sp. HM1</td>\n",
       "    </tr>\n",
       "    <tr>\n",
       "      <th>18</th>\n",
       "      <td>Rhodococcus sp. ARC_M13</td>\n",
       "    </tr>\n",
       "    <tr>\n",
       "      <th>19</th>\n",
       "      <td>Rhodococcus sp. ARC_M12</td>\n",
       "    </tr>\n",
       "  </tbody>\n",
       "</table>\n",
       "</div>"
      ],
      "text/plain": [
       "                        bacteria\n",
       "0            Rhodococcus sp. C-2\n",
       "1      Rhodococcus sp. IEGM 1401\n",
       "2      Rhodococcus sp. IEGM 1276\n",
       "3         Rhodococcus sp. JS3074\n",
       "4         Rhodococcus sp. H36-A4\n",
       "5       Rhodococcus sp. A5(2022)\n",
       "6         Rhodococcus sp. JS3073\n",
       "7   Rhodococcus sp. VUW_JGO2c-H1\n",
       "8   Rhodococcus sp. VUW_Li1c-G12\n",
       "9             Rhodococcus sp. 75\n",
       "10             Rhodococcus CIP-5\n",
       "11         Rhodococcus sp. PAE-6\n",
       "12      Rhodococcus sp. FXJ9.536\n",
       "13           Rhodococcus sp. Z13\n",
       "14           Rhodococcus sp. GA1\n",
       "15          Rhodococcus sp. LBL1\n",
       "16          Rhodococcus sp. LBL2\n",
       "17           Rhodococcus sp. HM1\n",
       "18       Rhodococcus sp. ARC_M13\n",
       "19       Rhodococcus sp. ARC_M12"
      ]
     },
     "execution_count": 18,
     "metadata": {},
     "output_type": "execute_result"
    }
   ],
   "source": [
    "bacteria_names"
   ]
  },
  {
   "cell_type": "code",
   "execution_count": 27,
   "metadata": {},
   "outputs": [
    {
     "ename": "TypeError",
     "evalue": "'NoneType' object is not callable",
     "output_type": "error",
     "traceback": [
      "\u001b[1;31m---------------------------------------------------------------------------\u001b[0m",
      "\u001b[1;31mTypeError\u001b[0m                                 Traceback (most recent call last)",
      "\u001b[1;32m~\\AppData\\Local\\Temp\\ipykernel_1784\\145522915.py\u001b[0m in \u001b[0;36m<module>\u001b[1;34m\u001b[0m\n\u001b[0;32m      1\u001b[0m \u001b[0mentry_id\u001b[0m \u001b[1;33m=\u001b[0m \u001b[1;34m\"hsa:10050\"\u001b[0m\u001b[1;33m\u001b[0m\u001b[1;33m\u001b[0m\u001b[0m\n\u001b[1;32m----> 2\u001b[1;33m \u001b[0mentry_data\u001b[0m \u001b[1;33m=\u001b[0m \u001b[0mkegg_obj\u001b[0m\u001b[1;33m.\u001b[0m\u001b[0mget_entry\u001b[0m\u001b[1;33m(\u001b[0m\u001b[0mentry_id\u001b[0m\u001b[1;33m)\u001b[0m\u001b[1;33m\u001b[0m\u001b[1;33m\u001b[0m\u001b[0m\n\u001b[0m\u001b[0;32m      3\u001b[0m \u001b[1;33m\u001b[0m\u001b[0m\n\u001b[0;32m      4\u001b[0m \u001b[1;31m# 打印条目数据\u001b[0m\u001b[1;33m\u001b[0m\u001b[1;33m\u001b[0m\u001b[0m\n\u001b[0;32m      5\u001b[0m \u001b[0mprint\u001b[0m\u001b[1;33m(\u001b[0m\u001b[0mentry_data\u001b[0m\u001b[1;33m)\u001b[0m\u001b[1;33m\u001b[0m\u001b[1;33m\u001b[0m\u001b[0m\n",
      "\u001b[1;31mTypeError\u001b[0m: 'NoneType' object is not callable"
     ]
    }
   ],
   "source": []
  },
  {
   "cell_type": "code",
   "execution_count": 23,
   "metadata": {},
   "outputs": [
    {
     "ename": "TypeError",
     "evalue": "'NoneType' object is not callable",
     "output_type": "error",
     "traceback": [
      "\u001b[1;31m---------------------------------------------------------------------------\u001b[0m",
      "\u001b[1;31mTypeError\u001b[0m                                 Traceback (most recent call last)",
      "\u001b[1;32m~\\AppData\\Local\\Temp\\ipykernel_1784\\3668266687.py\u001b[0m in \u001b[0;36m<module>\u001b[1;34m\u001b[0m\n\u001b[1;32m----> 1\u001b[1;33m \u001b[0mkegg_obj\u001b[0m\u001b[1;33m.\u001b[0m\u001b[0mget_entry\u001b[0m\u001b[1;33m(\u001b[0m\u001b[1;34m\"bacteria\"\u001b[0m\u001b[1;33m,\u001b[0m \u001b[1;34m\"Rhodococcus\"\u001b[0m\u001b[1;33m)\u001b[0m\u001b[1;33m\u001b[0m\u001b[1;33m\u001b[0m\u001b[0m\n\u001b[0m",
      "\u001b[1;31mTypeError\u001b[0m: 'NoneType' object is not callable"
     ]
    }
   ],
   "source": [
    "kegg_obj.get_entry(\"bacteria\", \"Rhodococcus\")"
   ]
  },
  {
   "cell_type": "code",
   "execution_count": 19,
   "metadata": {},
   "outputs": [
    {
     "ename": "TypeError",
     "evalue": "'NoneType' object is not callable",
     "output_type": "error",
     "traceback": [
      "\u001b[1;31m---------------------------------------------------------------------------\u001b[0m",
      "\u001b[1;31mTypeError\u001b[0m                                 Traceback (most recent call last)",
      "\u001b[1;32m~\\AppData\\Local\\Temp\\ipykernel_1784\\1269676171.py\u001b[0m in \u001b[0;36m<module>\u001b[1;34m\u001b[0m\n\u001b[1;32m----> 1\u001b[1;33m \u001b[0mbacteria_ids\u001b[0m \u001b[1;33m=\u001b[0m \u001b[1;33m[\u001b[0m\u001b[0mkegg_obj\u001b[0m\u001b[1;33m.\u001b[0m\u001b[0mget_entry\u001b[0m\u001b[1;33m(\u001b[0m\u001b[0mbac\u001b[0m\u001b[1;33m,\u001b[0m \u001b[1;34m\"name\"\u001b[0m\u001b[1;33m)\u001b[0m \u001b[1;32mfor\u001b[0m \u001b[0mbac\u001b[0m \u001b[1;32min\u001b[0m \u001b[0mbacteria_names\u001b[0m\u001b[1;33m[\u001b[0m\u001b[1;34m'bacteria'\u001b[0m\u001b[1;33m]\u001b[0m\u001b[1;33m]\u001b[0m\u001b[1;33m\u001b[0m\u001b[1;33m\u001b[0m\u001b[0m\n\u001b[0m\u001b[0;32m      2\u001b[0m \u001b[0mbacteria_ids\u001b[0m \u001b[1;33m=\u001b[0m \u001b[1;33m[\u001b[0m\u001b[0mbid\u001b[0m\u001b[1;33m.\u001b[0m\u001b[0msplit\u001b[0m\u001b[1;33m(\u001b[0m\u001b[1;34m\":\"\u001b[0m\u001b[1;33m)\u001b[0m\u001b[1;33m[\u001b[0m\u001b[1;36m1\u001b[0m\u001b[1;33m]\u001b[0m \u001b[1;32mfor\u001b[0m \u001b[0mbid\u001b[0m \u001b[1;32min\u001b[0m \u001b[0mbacteria_ids\u001b[0m \u001b[1;32mif\u001b[0m \u001b[0mbid\u001b[0m \u001b[1;33m!=\u001b[0m \u001b[1;34m''\u001b[0m\u001b[1;33m]\u001b[0m\u001b[1;33m\u001b[0m\u001b[1;33m\u001b[0m\u001b[0m\n\u001b[0;32m      3\u001b[0m \u001b[1;33m\u001b[0m\u001b[0m\n",
      "\u001b[1;32m~\\AppData\\Local\\Temp\\ipykernel_1784\\1269676171.py\u001b[0m in \u001b[0;36m<listcomp>\u001b[1;34m(.0)\u001b[0m\n\u001b[1;32m----> 1\u001b[1;33m \u001b[0mbacteria_ids\u001b[0m \u001b[1;33m=\u001b[0m \u001b[1;33m[\u001b[0m\u001b[0mkegg_obj\u001b[0m\u001b[1;33m.\u001b[0m\u001b[0mget_entry\u001b[0m\u001b[1;33m(\u001b[0m\u001b[0mbac\u001b[0m\u001b[1;33m,\u001b[0m \u001b[1;34m\"name\"\u001b[0m\u001b[1;33m)\u001b[0m \u001b[1;32mfor\u001b[0m \u001b[0mbac\u001b[0m \u001b[1;32min\u001b[0m \u001b[0mbacteria_names\u001b[0m\u001b[1;33m[\u001b[0m\u001b[1;34m'bacteria'\u001b[0m\u001b[1;33m]\u001b[0m\u001b[1;33m]\u001b[0m\u001b[1;33m\u001b[0m\u001b[1;33m\u001b[0m\u001b[0m\n\u001b[0m\u001b[0;32m      2\u001b[0m \u001b[0mbacteria_ids\u001b[0m \u001b[1;33m=\u001b[0m \u001b[1;33m[\u001b[0m\u001b[0mbid\u001b[0m\u001b[1;33m.\u001b[0m\u001b[0msplit\u001b[0m\u001b[1;33m(\u001b[0m\u001b[1;34m\":\"\u001b[0m\u001b[1;33m)\u001b[0m\u001b[1;33m[\u001b[0m\u001b[1;36m1\u001b[0m\u001b[1;33m]\u001b[0m \u001b[1;32mfor\u001b[0m \u001b[0mbid\u001b[0m \u001b[1;32min\u001b[0m \u001b[0mbacteria_ids\u001b[0m \u001b[1;32mif\u001b[0m \u001b[0mbid\u001b[0m \u001b[1;33m!=\u001b[0m \u001b[1;34m''\u001b[0m\u001b[1;33m]\u001b[0m\u001b[1;33m\u001b[0m\u001b[1;33m\u001b[0m\u001b[0m\n\u001b[0;32m      3\u001b[0m \u001b[1;33m\u001b[0m\u001b[0m\n",
      "\u001b[1;31mTypeError\u001b[0m: 'NoneType' object is not callable"
     ]
    }
   ],
   "source": [
    "\n",
    "bacteria_ids = [kegg_obj.get_entry(bac, \"name\") for bac in bacteria_names['bacteria']]\n",
    "bacteria_ids = [bid.split(\":\")[1] for bid in bacteria_ids if bid != '']\n",
    "\n"
   ]
  },
  {
   "cell_type": "code",
   "execution_count": null,
   "metadata": {},
   "outputs": [],
   "source": [
    "\n",
    "# Step 5: Get the KEGG metabolic pathways for each bacteria\n",
    "bacteria_pathways = {}\n",
    "for bac_id in bacteria_ids:\n",
    "    pathways = kegg_obj.parse(kegg_obj.get(bac_id, \"map\"))\n",
    "    bacteria_pathways[bac_id] = pathways.keys()\n",
    "\n",
    "# Step 6: Create a matrix with bacteria names as rows and pathways as columns\n",
    "bacteria_pathways_matrix = pd.DataFrame(bacteria_pathways).T\n",
    "bacteria_pathways_matrix.index = bacteria_ids\n",
    "bacteria_pathways_matrix = bacteria_pathways_matrix.fillna(0)\n",
    "bacteria_pathways_matrix[bacteria_pathways_matrix != 0] = 1\n",
    "\n",
    "# Step 7: Plot a heatmap of the matrix\n",
    "plt.figure(figsize=(20,10))\n",
    "sns.heatmap(bacteria_pathways_matrix, cmap='viridis')\n",
    "plt.show()\n",
    "\n",
    "\n"
   ]
  },
  {
   "cell_type": "code",
   "execution_count": null,
   "metadata": {},
   "outputs": [],
   "source": []
  },
  {
   "cell_type": "markdown",
   "metadata": {},
   "source": []
  }
 ],
 "metadata": {
  "kernelspec": {
   "display_name": "base",
   "language": "python",
   "name": "python3"
  },
  "language_info": {
   "codemirror_mode": {
    "name": "ipython",
    "version": 3
   },
   "file_extension": ".py",
   "mimetype": "text/x-python",
   "name": "python",
   "nbconvert_exporter": "python",
   "pygments_lexer": "ipython3",
   "version": "3.9.13"
  },
  "orig_nbformat": 4,
  "vscode": {
   "interpreter": {
    "hash": "f6be8fc375e7f2a12d966ca69c4c87dfa0a5e21291543001a29f6d3fc266e190"
   }
  }
 },
 "nbformat": 4,
 "nbformat_minor": 2
}
