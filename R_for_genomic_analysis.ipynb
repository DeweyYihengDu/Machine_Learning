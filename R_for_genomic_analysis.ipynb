{
 "cells": [
  {
   "attachments": {},
   "cell_type": "markdown",
   "metadata": {},
   "source": [
    "# Steps of genomic data analysis\n",
    "\n",
    "The data analysis steps typically include data collection, quality check and cleaning, processing, modeling, visualization, and reporting.\n",
    "## Data collection\n",
    "In genomics, data collection is done by high-throughput assays. One can also use publicly available data sets and specialized database. \n",
    "## Data processing\n",
    "In terms of genomics, processing includes multiple steps. Following the sequencing analysis example above, processing will include aligning reads to the genome and quantification over genes or regions of interest. This is simply counting how many reads are covering your regions of interest. This quantity can give you ideas about how much a gene is expressed if your experimental protocol was RNA sequencing. This can be followed by some normalization to aid the next step.\n",
    "\n",
    "### Exploratory data analysis and modeling\n",
    "This phase usually takes in the processed or semi-processed data and applies machine learning or statistical methods to explore the data. Typically, one needs to see a relationship between variables measured, and a relationship between samples based on the variables measured. At this point, we might be looking to see if the samples are grouped as expected by the experimental design, or are there outliers or any other anomalies? After this step you might want to do additional cleanup or re-processing to deal with anomalies.\n",
    "\n",
    "Another related step is modeling. This generally refers to modeling your variable of interest based on other variables you measured. In the context of genomics, it could be that you are trying to predict disease status of the patients from expression of genes you measured from their tissue samples. Then your variable of interest is the disease status. This kind of approach is generally called “predictive modeling”, and could be solved with regression-based machine learning methods.\n",
    "\n",
    "### Visyualization and reporting\n",
    "\n",
    "Bioconductor and CRAN have an array of specialized tools for doing genomics-specific analysis.\n",
    "\n"
   ]
  },
  {
   "cell_type": "markdown",
   "metadata": {},
   "source": []
  },
  {
   "cell_type": "code",
   "execution_count": 2,
   "metadata": {
    "vscode": {
     "languageId": "r"
    }
   },
   "outputs": [],
   "source": [
    "library(tidyverse)"
   ]
  },
  {
   "cell_type": "code",
   "execution_count": 1,
   "metadata": {
    "vscode": {
     "languageId": "r"
    }
   },
   "outputs": [
    {
     "name": "stderr",
     "output_type": "stream",
     "text": [
      "Warning message:\n",
      "\"unable to access index for repository https://cran.r-project.org/src/contrib:\n",
      "  无法打开目的文件'C:\\Users\\DuYih\\AppData\\Local\\Temp\\RtmpQPAKKS\\fileea022c74cd8'，原因是'No such file or directory'\"Warning message:\n",
      "\"package 'KEGG.db' is not available (for R version 3.6.1)\"Warning message in gzfile(file, mode):\n",
      "\"无法打开压缩文件'C:\\Users\\DuYih\\AppData\\Local\\Temp\\RtmpQPAKKS/libloc_189_de41869f.rds'，可能是因为'No such file or directory'\""
     ]
    },
    {
     "ename": "ERROR",
     "evalue": "Error in gzfile(file, mode): 无法打开链结\n",
     "output_type": "error",
     "traceback": [
      "Error in gzfile(file, mode): 无法打开链结\nTraceback:\n",
      "1. install.packages(\"KEGG.db\")",
      "2. getDependencies(pkgs, dependencies, available, lib, ...)",
      "3. installed.packages(lib.loc = libpath, fields = c(\"Package\", \"Version\"), \n .     ...)",
      "4. saveRDS(list(base = base, value = ret0), dest)",
      "5. gzfile(file, mode)"
     ]
    }
   ],
   "source": []
  }
 ],
 "metadata": {
  "kernelspec": {
   "display_name": "R",
   "language": "R",
   "name": "ir"
  },
  "language_info": {
   "codemirror_mode": "r",
   "file_extension": ".r",
   "mimetype": "text/x-r-source",
   "name": "R",
   "pygments_lexer": "r",
   "version": "3.6.1"
  },
  "orig_nbformat": 4
 },
 "nbformat": 4,
 "nbformat_minor": 2
}
