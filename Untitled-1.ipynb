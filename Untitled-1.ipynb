{
 "cells": [
  {
   "cell_type": "code",
   "execution_count": 12,
   "metadata": {},
   "outputs": [],
   "source": [
    "from Bio import Entrez\n",
    "from Bio.KEGG import REST\n",
    "\n",
    "def get_kegg_pathways(genus):\n",
    "    # Search NCBI database for species in the given genus\n",
    "    Entrez.email = \"u7457260@anu.edu.au\" # Replace with your email address\n",
    "    handle = Entrez.esearch(db=\"taxonomy\", term=genus, retmode=\"xml\")\n",
    "    results = Entrez.read(handle)\n",
    "    taxon_ids = results[\"IdList\"]\n",
    "    \n",
    "    pathways = {}\n",
    "    # For each species, retrieve KEGG metabolic pathways\n",
    "    for taxon_id in taxon_ids:\n",
    "        handle = Entrez.efetch(db=\"taxonomy\", id=taxon_id, retmode=\"xml\")\n",
    "        taxon_results = Entrez.read(handle)\n",
    "        species = taxon_results[0][\"ScientificName\"]\n",
    "        pathways[species] = REST.kegg_list(organism=species).read().rstrip().split(\"\\n\")\n",
    "\n",
    "    return pathways\n",
    "\n",
    "genus = input(\"Enter bacterial genus: \")\n",
    "pathways = get_kegg_pathways(genus)\n",
    "\n",
    "for species, species_pathways in pathways.items():\n",
    "    print(f\"Species: {species}\")\n",
    "    print(f\"Pathways: {species_pathways}\")"
   ]
  },
  {
   "cell_type": "code",
   "execution_count": 10,
   "metadata": {},
   "outputs": [
    {
     "name": "stdout",
     "output_type": "stream",
     "text": [
      "None\n"
     ]
    }
   ],
   "source": []
  },
  {
   "cell_type": "code",
   "execution_count": null,
   "metadata": {},
   "outputs": [],
   "source": []
  }
 ],
 "metadata": {
  "kernelspec": {
   "display_name": "base",
   "language": "python",
   "name": "python3"
  },
  "language_info": {
   "codemirror_mode": {
    "name": "ipython",
    "version": 3
   },
   "file_extension": ".py",
   "mimetype": "text/x-python",
   "name": "python",
   "nbconvert_exporter": "python",
   "pygments_lexer": "ipython3",
   "version": "3.9.13 (main, Aug 25 2022, 23:51:50) [MSC v.1916 64 bit (AMD64)]"
  },
  "orig_nbformat": 4,
  "vscode": {
   "interpreter": {
    "hash": "f6be8fc375e7f2a12d966ca69c4c87dfa0a5e21291543001a29f6d3fc266e190"
   }
  }
 },
 "nbformat": 4,
 "nbformat_minor": 2
}
