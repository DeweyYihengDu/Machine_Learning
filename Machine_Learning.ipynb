{
 "cells": [
  {
   "attachments": {},
   "cell_type": "markdown",
   "metadata": {},
   "source": [
    "# Use of pytorch"
   ]
  },
  {
   "cell_type": "code",
   "execution_count": 1,
   "metadata": {},
   "outputs": [],
   "source": [
    "import os\n",
    "import torch\n",
    "from torch import nn\n",
    "from torch.utils.data import DataLoader\n",
    "from torchvision import datasets, transforms"
   ]
  },
  {
   "cell_type": "code",
   "execution_count": 6,
   "metadata": {},
   "outputs": [
    {
     "name": "stdout",
     "output_type": "stream",
     "text": [
      "Using cpu device\n"
     ]
    }
   ],
   "source": [
    "device = \"cuda\" if torch.cuda.is_available() else \"cpu\"\n",
    "print(f\"Using {device} device\")"
   ]
  },
  {
   "cell_type": "code",
   "execution_count": 17,
   "metadata": {},
   "outputs": [],
   "source": [
    "class NeuralNetwork(nn.Module):\n",
    "    def __init__(self):\n",
    "        super(NeuralNetwork, self).__init__()\n",
    "        # Flatten layer to flatten the input image tensor\n",
    "        self.flatten = nn.Flatten()\n",
    "        # A stack of linear layers with ReLU activation\n",
    "        self.linear_relu_stack = nn.Sequential(\n",
    "            # Linear layer with input size of 28*28 and output size of 512\n",
    "            nn.Linear(28*28, 512),\n",
    "            # ReLU activation function\n",
    "            nn.ReLU(),\n",
    "            # Linear layer with input size of 512 and output size of 512\n",
    "            nn.Linear(512, 512),\n",
    "            # ReLU activation function\n",
    "            nn.ReLU(),\n",
    "            # Linear layer with input size of 512 and output size of 10\n",
    "            nn.Linear(512, 10),\n",
    "        )\n",
    "\n",
    "    def forward(self, x):\n",
    "        # Flatten the input image tensor\n",
    "        x = self.flatten(x)\n",
    "        # Pass the tensor through the stack of linear layers with ReLU activation\n",
    "        logits = self.linear_relu_stack(x)\n",
    "        # Return the output logits\n",
    "        return logits"
   ]
  },
  {
   "attachments": {},
   "cell_type": "markdown",
   "metadata": {},
   "source": [
    "This is a Pytorch implementation of a neural network class. The NeuralNetwork class inherits from Pytorch's nn.Module class, which is a base class for all neural network modules in Pytorch.\n",
    "\n",
    "The __init__ method is used to define the architecture of the neural network. It creates a flatten layer, which is used to flatten the input image tensor. Then it creates a linear_relu_stack attribute, which is a sequential container for a stack of linear layers with ReLU activation. The stack of linear layers with ReLU activation contains three linear layers, where the input size of the first linear layer is 28*28, the output size is 512, the input size of second linear layer is 512, the output size is 512, the input size of third linear layer is 512, the output size is 10.\n",
    "\n",
    "The forward method is used to define the forward pass of the neural network. It takes an input tensor x, flattens it using the flatten layer, and then passes it through the stack of linear layers with ReLU activation. The output of this forward pass is the logits, which are returned."
   ]
  },
  {
   "cell_type": "code",
   "execution_count": 18,
   "metadata": {},
   "outputs": [
    {
     "name": "stdout",
     "output_type": "stream",
     "text": [
      "NeuralNetwork(\n",
      "  (flatten): Flatten(start_dim=1, end_dim=-1)\n",
      "  (linear_relu_stack): Sequential(\n",
      "    (0): Linear(in_features=784, out_features=512, bias=True)\n",
      "    (1): ReLU()\n",
      "    (2): Linear(in_features=512, out_features=512, bias=True)\n",
      "    (3): ReLU()\n",
      "    (4): Linear(in_features=512, out_features=10, bias=True)\n",
      "  )\n",
      ")\n"
     ]
    }
   ],
   "source": [
    "model = NeuralNetwork().to(device)\n",
    "print(model)"
   ]
  },
  {
   "cell_type": "code",
   "execution_count": 19,
   "metadata": {},
   "outputs": [
    {
     "name": "stdout",
     "output_type": "stream",
     "text": [
      "Predicted class: tensor([6])\n"
     ]
    }
   ],
   "source": [
    "X = torch.rand(1, 28, 28, device=device)\n",
    "logits = model(X)\n",
    "pred_probab = nn.Softmax(dim=1)(logits)\n",
    "y_pred = pred_probab.argmax(1)\n",
    "print(f\"Predicted class: {y_pred}\")"
   ]
  },
  {
   "cell_type": "code",
   "execution_count": 10,
   "metadata": {},
   "outputs": [
    {
     "name": "stdout",
     "output_type": "stream",
     "text": [
      "torch.Size([3, 28, 28])\n"
     ]
    }
   ],
   "source": [
    "input_image = torch.rand(3,28,28)\n",
    "print(input_image.size())\n"
   ]
  },
  {
   "cell_type": "code",
   "execution_count": 11,
   "metadata": {},
   "outputs": [
    {
     "name": "stdout",
     "output_type": "stream",
     "text": [
      "torch.Size([3, 784])\n"
     ]
    }
   ],
   "source": [
    "flatten = nn.Flatten()\n",
    "flat_image = flatten(input_image)\n",
    "print(flat_image.size())"
   ]
  },
  {
   "cell_type": "code",
   "execution_count": 12,
   "metadata": {},
   "outputs": [
    {
     "name": "stdout",
     "output_type": "stream",
     "text": [
      "torch.Size([3, 20])\n"
     ]
    }
   ],
   "source": [
    "layer1 = nn.Linear(in_features=28*28, out_features=20)\n",
    "hidden1 = layer1(flat_image)\n",
    "print(hidden1.size())"
   ]
  },
  {
   "cell_type": "code",
   "execution_count": 13,
   "metadata": {},
   "outputs": [
    {
     "name": "stdout",
     "output_type": "stream",
     "text": [
      "Before ReLU: tensor([[-5.7511e-01, -3.2658e-01,  1.3886e-01,  2.5572e-01, -3.2752e-01,\n",
      "         -4.3250e-01,  5.6989e-01,  2.5116e-01,  2.0724e-01,  3.2656e-01,\n",
      "         -2.1652e-01, -2.9268e-01, -4.6598e-01,  2.8797e-01,  7.6554e-02,\n",
      "         -2.8256e-02, -3.8791e-01, -4.4234e-01,  9.2894e-02,  3.4308e-04],\n",
      "        [-2.0383e-01,  2.3530e-01,  1.5551e-01,  3.8745e-01,  2.1750e-03,\n",
      "         -9.5682e-02,  2.6924e-01,  3.4943e-01, -7.6816e-02, -1.2351e-01,\n",
      "         -1.4829e-01, -4.0461e-01, -3.5783e-01,  3.1081e-01, -8.1222e-02,\n",
      "          3.4807e-02, -4.1355e-01, -3.2859e-02,  2.8966e-01, -3.9011e-01],\n",
      "        [-3.5827e-01,  1.8770e-01, -7.3786e-02,  2.2998e-01,  4.1626e-03,\n",
      "         -4.2630e-01,  4.3972e-01,  2.9930e-01,  1.9684e-01,  4.2173e-01,\n",
      "         -1.9248e-01, -4.2915e-01, -2.3677e-01,  3.7267e-01, -1.5755e-01,\n",
      "         -3.5775e-02, -3.8058e-01, -1.3181e-01,  2.1742e-01,  7.6072e-02]],\n",
      "       grad_fn=<AddmmBackward0>)\n",
      "\n",
      "\n",
      "After ReLU: tensor([[0.0000e+00, 0.0000e+00, 1.3886e-01, 2.5572e-01, 0.0000e+00, 0.0000e+00,\n",
      "         5.6989e-01, 2.5116e-01, 2.0724e-01, 3.2656e-01, 0.0000e+00, 0.0000e+00,\n",
      "         0.0000e+00, 2.8797e-01, 7.6554e-02, 0.0000e+00, 0.0000e+00, 0.0000e+00,\n",
      "         9.2894e-02, 3.4308e-04],\n",
      "        [0.0000e+00, 2.3530e-01, 1.5551e-01, 3.8745e-01, 2.1750e-03, 0.0000e+00,\n",
      "         2.6924e-01, 3.4943e-01, 0.0000e+00, 0.0000e+00, 0.0000e+00, 0.0000e+00,\n",
      "         0.0000e+00, 3.1081e-01, 0.0000e+00, 3.4807e-02, 0.0000e+00, 0.0000e+00,\n",
      "         2.8966e-01, 0.0000e+00],\n",
      "        [0.0000e+00, 1.8770e-01, 0.0000e+00, 2.2998e-01, 4.1626e-03, 0.0000e+00,\n",
      "         4.3972e-01, 2.9930e-01, 1.9684e-01, 4.2173e-01, 0.0000e+00, 0.0000e+00,\n",
      "         0.0000e+00, 3.7267e-01, 0.0000e+00, 0.0000e+00, 0.0000e+00, 0.0000e+00,\n",
      "         2.1742e-01, 7.6072e-02]], grad_fn=<ReluBackward0>)\n"
     ]
    }
   ],
   "source": [
    "print(f\"Before ReLU: {hidden1}\\n\\n\")\n",
    "hidden1 = nn.ReLU()(hidden1)\n",
    "print(f\"After ReLU: {hidden1}\")"
   ]
  },
  {
   "cell_type": "code",
   "execution_count": 14,
   "metadata": {},
   "outputs": [
    {
     "name": "stdout",
     "output_type": "stream",
     "text": [
      "Before ReLU: tensor([[0.0000e+00, 0.0000e+00, 1.3886e-01, 2.5572e-01, 0.0000e+00, 0.0000e+00,\n",
      "         5.6989e-01, 2.5116e-01, 2.0724e-01, 3.2656e-01, 0.0000e+00, 0.0000e+00,\n",
      "         0.0000e+00, 2.8797e-01, 7.6554e-02, 0.0000e+00, 0.0000e+00, 0.0000e+00,\n",
      "         9.2894e-02, 3.4308e-04],\n",
      "        [0.0000e+00, 2.3530e-01, 1.5551e-01, 3.8745e-01, 2.1750e-03, 0.0000e+00,\n",
      "         2.6924e-01, 3.4943e-01, 0.0000e+00, 0.0000e+00, 0.0000e+00, 0.0000e+00,\n",
      "         0.0000e+00, 3.1081e-01, 0.0000e+00, 3.4807e-02, 0.0000e+00, 0.0000e+00,\n",
      "         2.8966e-01, 0.0000e+00],\n",
      "        [0.0000e+00, 1.8770e-01, 0.0000e+00, 2.2998e-01, 4.1626e-03, 0.0000e+00,\n",
      "         4.3972e-01, 2.9930e-01, 1.9684e-01, 4.2173e-01, 0.0000e+00, 0.0000e+00,\n",
      "         0.0000e+00, 3.7267e-01, 0.0000e+00, 0.0000e+00, 0.0000e+00, 0.0000e+00,\n",
      "         2.1742e-01, 7.6072e-02]], grad_fn=<ReluBackward0>)\n",
      "\n",
      "\n",
      "After ReLU: tensor([[0.0000e+00, 0.0000e+00, 1.3886e-01, 2.5572e-01, 0.0000e+00, 0.0000e+00,\n",
      "         5.6989e-01, 2.5116e-01, 2.0724e-01, 3.2656e-01, 0.0000e+00, 0.0000e+00,\n",
      "         0.0000e+00, 2.8797e-01, 7.6554e-02, 0.0000e+00, 0.0000e+00, 0.0000e+00,\n",
      "         9.2894e-02, 3.4308e-04],\n",
      "        [0.0000e+00, 2.3530e-01, 1.5551e-01, 3.8745e-01, 2.1750e-03, 0.0000e+00,\n",
      "         2.6924e-01, 3.4943e-01, 0.0000e+00, 0.0000e+00, 0.0000e+00, 0.0000e+00,\n",
      "         0.0000e+00, 3.1081e-01, 0.0000e+00, 3.4807e-02, 0.0000e+00, 0.0000e+00,\n",
      "         2.8966e-01, 0.0000e+00],\n",
      "        [0.0000e+00, 1.8770e-01, 0.0000e+00, 2.2998e-01, 4.1626e-03, 0.0000e+00,\n",
      "         4.3972e-01, 2.9930e-01, 1.9684e-01, 4.2173e-01, 0.0000e+00, 0.0000e+00,\n",
      "         0.0000e+00, 3.7267e-01, 0.0000e+00, 0.0000e+00, 0.0000e+00, 0.0000e+00,\n",
      "         2.1742e-01, 7.6072e-02]], grad_fn=<ReluBackward0>)\n"
     ]
    }
   ],
   "source": [
    "print(f\"Before ReLU: {hidden1}\\n\\n\")\n",
    "hidden1 = nn.ReLU()(hidden1)\n",
    "print(f\"After ReLU: {hidden1}\")"
   ]
  },
  {
   "cell_type": "code",
   "execution_count": 15,
   "metadata": {},
   "outputs": [],
   "source": [
    "softmax = nn.Softmax(dim=1)\n",
    "pred_probab = softmax(logits)"
   ]
  },
  {
   "cell_type": "code",
   "execution_count": 16,
   "metadata": {},
   "outputs": [
    {
     "name": "stdout",
     "output_type": "stream",
     "text": [
      "Model structure: NeuralNetwork(\n",
      "  (flatten): Flatten(start_dim=1, end_dim=-1)\n",
      "  (linear_relu_stack): Sequential(\n",
      "    (0): Linear(in_features=784, out_features=512, bias=True)\n",
      "    (1): ReLU()\n",
      "    (2): Linear(in_features=512, out_features=512, bias=True)\n",
      "    (3): ReLU()\n",
      "    (4): Linear(in_features=512, out_features=10, bias=True)\n",
      "  )\n",
      ")\n",
      "\n",
      "\n",
      "Layer: linear_relu_stack.0.weight | Size: torch.Size([512, 784]) | Values : tensor([[ 0.0088, -0.0233,  0.0256,  ...,  0.0107,  0.0150,  0.0022],\n",
      "        [ 0.0291, -0.0127,  0.0213,  ...,  0.0261, -0.0003, -0.0239]],\n",
      "       grad_fn=<SliceBackward0>) \n",
      "\n",
      "Layer: linear_relu_stack.0.bias | Size: torch.Size([512]) | Values : tensor([-0.0136, -0.0313], grad_fn=<SliceBackward0>) \n",
      "\n",
      "Layer: linear_relu_stack.2.weight | Size: torch.Size([512, 512]) | Values : tensor([[ 0.0144,  0.0128, -0.0169,  ...,  0.0341, -0.0105, -0.0121],\n",
      "        [ 0.0061, -0.0008, -0.0149,  ..., -0.0150, -0.0042,  0.0208]],\n",
      "       grad_fn=<SliceBackward0>) \n",
      "\n",
      "Layer: linear_relu_stack.2.bias | Size: torch.Size([512]) | Values : tensor([ 0.0184, -0.0396], grad_fn=<SliceBackward0>) \n",
      "\n",
      "Layer: linear_relu_stack.4.weight | Size: torch.Size([10, 512]) | Values : tensor([[ 0.0037,  0.0344,  0.0029,  ..., -0.0099, -0.0099,  0.0242],\n",
      "        [-0.0212, -0.0025, -0.0329,  ..., -0.0243,  0.0428, -0.0113]],\n",
      "       grad_fn=<SliceBackward0>) \n",
      "\n",
      "Layer: linear_relu_stack.4.bias | Size: torch.Size([10]) | Values : tensor([-0.0254, -0.0278], grad_fn=<SliceBackward0>) \n",
      "\n"
     ]
    }
   ],
   "source": [
    "print(f\"Model structure: {model}\\n\\n\")\n",
    "\n",
    "for name, param in model.named_parameters():\n",
    "    print(f\"Layer: {name} | Size: {param.size()} | Values : {param[:2]} \\n\")"
   ]
  }
 ],
 "metadata": {
  "kernelspec": {
   "display_name": "base",
   "language": "python",
   "name": "python3"
  },
  "language_info": {
   "codemirror_mode": {
    "name": "ipython",
    "version": 3
   },
   "file_extension": ".py",
   "mimetype": "text/x-python",
   "name": "python",
   "nbconvert_exporter": "python",
   "pygments_lexer": "ipython3",
   "version": "3.9.13 (main, Aug 25 2022, 23:51:50) [MSC v.1916 64 bit (AMD64)]"
  },
  "orig_nbformat": 4,
  "vscode": {
   "interpreter": {
    "hash": "f6be8fc375e7f2a12d966ca69c4c87dfa0a5e21291543001a29f6d3fc266e190"
   }
  }
 },
 "nbformat": 4,
 "nbformat_minor": 2
}
