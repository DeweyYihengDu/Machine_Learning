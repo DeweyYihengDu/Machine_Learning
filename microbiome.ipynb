{
 "cells": [
  {
   "cell_type": "code",
   "execution_count": 2,
   "metadata": {},
   "outputs": [],
   "source": [
    "from Bio import Entrez\n",
    "from Bio import SeqIO"
   ]
  },
  {
   "cell_type": "code",
   "execution_count": 4,
   "metadata": {},
   "outputs": [],
   "source": [
    "Entrez.email = \"u7457260@anu.edu.au\"  # 替换为你的电子邮件地址\n",
    "\n",
    "# 指定属名\n",
    "# Rhodococcus; Vibrio; Delftia\n",
    "genus_name = \"Rhodococcus\"\n",
    "\n",
    "# 检索所有属内的物种名称\n",
    "handle = Entrez.esearch(db=\"taxonomy\", term=genus_name+\"[Organism]\", retmode=\"xml\")\n",
    "record = Entrez.read(handle)\n",
    "species_ids = record[\"IdList\"]\n",
    "\n",
    "# 输出所有物种名称\n",
    "species_names = []\n",
    "for species_id in species_ids:\n",
    "    handle = Entrez.efetch(db=\"taxonomy\", id=species_id, retmode=\"xml\")\n",
    "    record = Entrez.read(handle)\n",
    "    species_name = record[0][\"ScientificName\"]\n",
    "    species_names.append(species_name)\n",
    "\n",
    "# 将物种名称写入文件\n",
    "with open(\"species_names.txt\", \"w\") as f:\n",
    "    for species_name in species_names:\n",
    "        f.write(species_name + \"\\n\")"
   ]
  }
 ],
 "metadata": {
  "kernelspec": {
   "display_name": "base",
   "language": "python",
   "name": "python3"
  },
  "language_info": {
   "codemirror_mode": {
    "name": "ipython",
    "version": 3
   },
   "file_extension": ".py",
   "mimetype": "text/x-python",
   "name": "python",
   "nbconvert_exporter": "python",
   "pygments_lexer": "ipython3",
   "version": "3.9.13 (main, Aug 25 2022, 23:51:50) [MSC v.1916 64 bit (AMD64)]"
  },
  "orig_nbformat": 4,
  "vscode": {
   "interpreter": {
    "hash": "f6be8fc375e7f2a12d966ca69c4c87dfa0a5e21291543001a29f6d3fc266e190"
   }
  }
 },
 "nbformat": 4,
 "nbformat_minor": 2
}
